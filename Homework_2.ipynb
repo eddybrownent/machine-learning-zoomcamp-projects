{
 "cells": [
  {
   "cell_type": "code",
   "execution_count": 1,
   "id": "9d24aa8d-1a99-42d7-95a6-0d4000a961dd",
   "metadata": {},
   "outputs": [],
   "source": [
    "# Importing nessesary libries\n",
    "import pandas as pd\n",
    "import numpy as np\n",
    "import matplotlib.pyplot as plt\n",
    "import seaborn as sns\n",
    "\n",
    "# ensure that matplotlib plots are displayed inline within the Jupyter environment\n",
    "%matplotlib inline"
   ]
  },
  {
   "cell_type": "code",
   "execution_count": 2,
   "id": "13655f4f-eff5-4976-92b1-3e42b259331b",
   "metadata": {},
   "outputs": [],
   "source": [
    "#Reading the data\n",
    "data = pd.read_csv('housing.csv')"
   ]
  },
  {
   "cell_type": "code",
   "execution_count": 3,
   "id": "7528e7e8-2cb1-4123-86b8-2bacc11c75c0",
   "metadata": {},
   "outputs": [
    {
     "data": {
      "text/plain": [
       "<AxesSubplot: xlabel='median_house_value', ylabel='Count'>"
      ]
     },
     "execution_count": 3,
     "metadata": {},
     "output_type": "execute_result"
    },
    {
     "data": {
      "image/png": "[encoded data removed]",
      "text/plain": [
       "<Figure size 640x480 with 1 Axes>"
      ]
     },
     "metadata": {},
     "output_type": "display_data"
    }
   ],
   "source": [
    "# create a histogram plot of a variable median_house_value\n",
    "sns.histplot(data.median_house_value, bins=50)"
   ]
  },
  {
   "cell_type": "markdown",
   "id": "7c5ed80f-0a31-4390-b29d-d79ec06e704e",
   "metadata": {},
   "source": [
    "## Preparing the dataset"
   ]
  },
  {
   "cell_type": "code",
   "execution_count": 4,
   "id": "b4c1d3d5-df7b-4d23-af9c-b185a00aa924",
   "metadata": {},
   "outputs": [],
   "source": [
    "# keep only the records where ocean_proximity is either '<1H OCEAN' or 'INLAND'\n",
    "f_data = data[data['ocean_proximity'].isin(['<1H OCEAN', 'INLAND'])]"
   ]
  },
  {
   "cell_type": "code",
   "execution_count": 7,
   "id": "f48ccbd2-d9d6-46e0-929f-2eae0f49a6f8",
   "metadata": {},
   "outputs": [],
   "source": [
    "# List of columns to keep\n",
    "selected_columns = [\n",
    "    'latitude',\n",
    "    'longitude',\n",
    "    'housing_median_age',\n",
    "    'total_rooms',\n",
    "    'total_bedrooms',\n",
    "    'population',\n",
    "    'households',\n",
    "    'median_income',\n",
    "    'median_house_value'\n",
    "]\n",
    "f_data = f_data[selected_columns]"
   ]
  },
  {
   "cell_type": "code",
   "execution_count": 8,
   "id": "419505c0-75ad-4c6a-8a2c-e696676c1142",
   "metadata": {},
   "outputs": [
    {
     "data": {
      "text/html": [
       "<div>\n",
       "<style scoped>\n",
       "    .dataframe tbody tr th:only-of-type {\n",
       "        vertical-align: middle;\n",
       "    }\n",
       "\n",
       "    .dataframe tbody tr th {\n",
       "        vertical-align: top;\n",
       "    }\n",
       "\n",
       "    .dataframe thead th {\n",
       "        text-align: right;\n",
       "    }\n",
       "</style>\n",
       "<table border=\"1\" class=\"dataframe\">\n",
       "  <thead>\n",
       "    <tr style=\"text-align: right;\">\n",
       "      <th></th>\n",
       "      <th>latitude</th>\n",
       "      <th>longitude</th>\n",
       "      <th>housing_median_age</th>\n",
       "      <th>total_rooms</th>\n",
       "      <th>total_bedrooms</th>\n",
       "      <th>population</th>\n",
       "      <th>households</th>\n",
       "      <th>median_income</th>\n",
       "      <th>median_house_value</th>\n",
       "    </tr>\n",
       "  </thead>\n",
       "  <tbody>\n",
       "    <tr>\n",
       "      <th>701</th>\n",
       "      <td>37.64</td>\n",
       "      <td>-121.97</td>\n",
       "      <td>32.0</td>\n",
       "      <td>1283.0</td>\n",
       "      <td>194.0</td>\n",
       "      <td>485.0</td>\n",
       "      <td>171.0</td>\n",
       "      <td>6.0574</td>\n",
       "      <td>431000.0</td>\n",
       "    </tr>\n",
       "    <tr>\n",
       "      <th>830</th>\n",
       "      <td>37.61</td>\n",
       "      <td>-121.99</td>\n",
       "      <td>9.0</td>\n",
       "      <td>3666.0</td>\n",
       "      <td>711.0</td>\n",
       "      <td>2341.0</td>\n",
       "      <td>703.0</td>\n",
       "      <td>4.6458</td>\n",
       "      <td>217000.0</td>\n",
       "    </tr>\n",
       "    <tr>\n",
       "      <th>859</th>\n",
       "      <td>37.57</td>\n",
       "      <td>-121.97</td>\n",
       "      <td>21.0</td>\n",
       "      <td>4342.0</td>\n",
       "      <td>783.0</td>\n",
       "      <td>2172.0</td>\n",
       "      <td>789.0</td>\n",
       "      <td>4.6146</td>\n",
       "      <td>247600.0</td>\n",
       "    </tr>\n",
       "    <tr>\n",
       "      <th>860</th>\n",
       "      <td>37.58</td>\n",
       "      <td>-121.96</td>\n",
       "      <td>15.0</td>\n",
       "      <td>3575.0</td>\n",
       "      <td>597.0</td>\n",
       "      <td>1777.0</td>\n",
       "      <td>559.0</td>\n",
       "      <td>5.7192</td>\n",
       "      <td>283500.0</td>\n",
       "    </tr>\n",
       "    <tr>\n",
       "      <th>861</th>\n",
       "      <td>37.58</td>\n",
       "      <td>-121.98</td>\n",
       "      <td>20.0</td>\n",
       "      <td>4126.0</td>\n",
       "      <td>1031.0</td>\n",
       "      <td>2079.0</td>\n",
       "      <td>975.0</td>\n",
       "      <td>3.6832</td>\n",
       "      <td>216900.0</td>\n",
       "    </tr>\n",
       "    <tr>\n",
       "      <th>...</th>\n",
       "      <td>...</td>\n",
       "      <td>...</td>\n",
       "      <td>...</td>\n",
       "      <td>...</td>\n",
       "      <td>...</td>\n",
       "      <td>...</td>\n",
       "      <td>...</td>\n",
       "      <td>...</td>\n",
       "      <td>...</td>\n",
       "    </tr>\n",
       "    <tr>\n",
       "      <th>20635</th>\n",
       "      <td>39.48</td>\n",
       "      <td>-121.09</td>\n",
       "      <td>25.0</td>\n",
       "      <td>1665.0</td>\n",
       "      <td>374.0</td>\n",
       "      <td>845.0</td>\n",
       "      <td>330.0</td>\n",
       "      <td>1.5603</td>\n",
       "      <td>78100.0</td>\n",
       "    </tr>\n",
       "    <tr>\n",
       "      <th>20636</th>\n",
       "      <td>39.49</td>\n",
       "      <td>-121.21</td>\n",
       "      <td>18.0</td>\n",
       "      <td>697.0</td>\n",
       "      <td>150.0</td>\n",
       "      <td>356.0</td>\n",
       "      <td>114.0</td>\n",
       "      <td>2.5568</td>\n",
       "      <td>77100.0</td>\n",
       "    </tr>\n",
       "    <tr>\n",
       "      <th>20637</th>\n",
       "      <td>39.43</td>\n",
       "      <td>-121.22</td>\n",
       "      <td>17.0</td>\n",
       "      <td>2254.0</td>\n",
       "      <td>485.0</td>\n",
       "      <td>1007.0</td>\n",
       "      <td>433.0</td>\n",
       "      <td>1.7000</td>\n",
       "      <td>92300.0</td>\n",
       "    </tr>\n",
       "    <tr>\n",
       "      <th>20638</th>\n",
       "      <td>39.43</td>\n",
       "      <td>-121.32</td>\n",
       "      <td>18.0</td>\n",
       "      <td>1860.0</td>\n",
       "      <td>409.0</td>\n",
       "      <td>741.0</td>\n",
       "      <td>349.0</td>\n",
       "      <td>1.8672</td>\n",
       "      <td>84700.0</td>\n",
       "    </tr>\n",
       "    <tr>\n",
       "      <th>20639</th>\n",
       "      <td>39.37</td>\n",
       "      <td>-121.24</td>\n",
       "      <td>16.0</td>\n",
       "      <td>2785.0</td>\n",
       "      <td>616.0</td>\n",
       "      <td>1387.0</td>\n",
       "      <td>530.0</td>\n",
       "      <td>2.3886</td>\n",
       "      <td>89400.0</td>\n",
       "    </tr>\n",
       "  </tbody>\n",
       "</table>\n",
       "<p>15687 rows × 9 columns</p>\n",
       "</div>"
      ],
      "text/plain": [
       "       latitude  longitude  housing_median_age  total_rooms  total_bedrooms  \\\n",
       "701       37.64    -121.97                32.0       1283.0           194.0   \n",
       "830       37.61    -121.99                 9.0       3666.0           711.0   \n",
       "859       37.57    -121.97                21.0       4342.0           783.0   \n",
       "860       37.58    -121.96                15.0       3575.0           597.0   \n",
       "861       37.58    -121.98                20.0       4126.0          1031.0   \n",
       "...         ...        ...                 ...          ...             ...   \n",
       "20635     39.48    -121.09                25.0       1665.0           374.0   \n",
       "20636     39.49    -121.21                18.0        697.0           150.0   \n",
       "20637     39.43    -121.22                17.0       2254.0           485.0   \n",
       "20638     39.43    -121.32                18.0       1860.0           409.0   \n",
       "20639     39.37    -121.24                16.0       2785.0           616.0   \n",
       "\n",
       "       population  households  median_income  median_house_value  \n",
       "701         485.0       171.0         6.0574            431000.0  \n",
       "830        2341.0       703.0         4.6458            217000.0  \n",
       "859        2172.0       789.0         4.6146            247600.0  \n",
       "860        1777.0       559.0         5.7192            283500.0  \n",
       "861        2079.0       975.0         3.6832            216900.0  \n",
       "...           ...         ...            ...                 ...  \n",
       "20635       845.0       330.0         1.5603             78100.0  \n",
       "20636       356.0       114.0         2.5568             77100.0  \n",
       "20637      1007.0       433.0         1.7000             92300.0  \n",
       "20638       741.0       349.0         1.8672             84700.0  \n",
       "20639      1387.0       530.0         2.3886             89400.0  \n",
       "\n",
       "[15687 rows x 9 columns]"
      ]
     },
     "execution_count": 8,
     "metadata": {},
     "output_type": "execute_result"
    }
   ],
   "source": [
    "f_data"
   ]
  },
  {
   "cell_type": "markdown",
   "id": "d5aac93d-abc0-4060-b7f5-83e1e7ec3a34",
   "metadata": {},
   "source": [
    "## There's one feature with missing values"
   ]
  },
  {
   "cell_type": "code",
   "execution_count": 131,
   "id": "c491053c-5360-4326-aace-c3fd26698996",
   "metadata": {},
   "outputs": [
    {
     "data": {
      "text/plain": [
       "latitude                0\n",
       "longitude               0\n",
       "housing_median_age      0\n",
       "total_rooms             0\n",
       "total_bedrooms        157\n",
       "population              0\n",
       "households              0\n",
       "median_income           0\n",
       "median_house_value      0\n",
       "dtype: int64"
      ]
     },
     "execution_count": 131,
     "metadata": {},
     "output_type": "execute_result"
    }
   ],
   "source": [
    "# total_bedrooms has some missing features\n",
    "f_data.isnull().sum()"
   ]
  },
  {
   "cell_type": "markdown",
   "id": "31e845db-00a7-467f-b44a-99b0ae1d6d9d",
   "metadata": {},
   "source": [
    "## median for variable 'population'"
   ]
  },
  {
   "cell_type": "code",
   "execution_count": 48,
   "id": "ff8e9dcd-21be-4eb1-8009-41afeae2b327",
   "metadata": {},
   "outputs": [
    {
     "data": {
      "text/plain": [
       "1195.0"
      ]
     },
     "execution_count": 48,
     "metadata": {},
     "output_type": "execute_result"
    }
   ],
   "source": [
    "median_population = f_data['population'].median()\n",
    "median_population"
   ]
  },
  {
   "cell_type": "markdown",
   "id": "e3e36d8e-226e-4c1f-a519-702c114fa48d",
   "metadata": {},
   "source": [
    "## Shuffle the initial dataset, use seed 42"
   ]
  },
  {
   "cell_type": "code",
   "execution_count": 49,
   "id": "492092bb-a1e8-450e-a49d-cd96e104e940",
   "metadata": {},
   "outputs": [
    {
     "data": {
      "text/html": [
       "<div>\n",
       "<style scoped>\n",
       "    .dataframe tbody tr th:only-of-type {\n",
       "        vertical-align: middle;\n",
       "    }\n",
       "\n",
       "    .dataframe tbody tr th {\n",
       "        vertical-align: top;\n",
       "    }\n",
       "\n",
       "    .dataframe thead th {\n",
       "        text-align: right;\n",
       "    }\n",
       "</style>\n",
       "<table border=\"1\" class=\"dataframe\">\n",
       "  <thead>\n",
       "    <tr style=\"text-align: right;\">\n",
       "      <th></th>\n",
       "      <th>latitude</th>\n",
       "      <th>longitude</th>\n",
       "      <th>housing_median_age</th>\n",
       "      <th>total_rooms</th>\n",
       "      <th>total_bedrooms</th>\n",
       "      <th>population</th>\n",
       "      <th>households</th>\n",
       "      <th>median_income</th>\n",
       "      <th>median_house_value</th>\n",
       "    </tr>\n",
       "  </thead>\n",
       "  <tbody>\n",
       "    <tr>\n",
       "      <th>701</th>\n",
       "      <td>37.64</td>\n",
       "      <td>-121.97</td>\n",
       "      <td>32.0</td>\n",
       "      <td>1283.0</td>\n",
       "      <td>194.0</td>\n",
       "      <td>485.0</td>\n",
       "      <td>171.0</td>\n",
       "      <td>6.0574</td>\n",
       "      <td>431000.0</td>\n",
       "    </tr>\n",
       "    <tr>\n",
       "      <th>830</th>\n",
       "      <td>37.61</td>\n",
       "      <td>-121.99</td>\n",
       "      <td>9.0</td>\n",
       "      <td>3666.0</td>\n",
       "      <td>711.0</td>\n",
       "      <td>2341.0</td>\n",
       "      <td>703.0</td>\n",
       "      <td>4.6458</td>\n",
       "      <td>217000.0</td>\n",
       "    </tr>\n",
       "    <tr>\n",
       "      <th>859</th>\n",
       "      <td>37.57</td>\n",
       "      <td>-121.97</td>\n",
       "      <td>21.0</td>\n",
       "      <td>4342.0</td>\n",
       "      <td>783.0</td>\n",
       "      <td>2172.0</td>\n",
       "      <td>789.0</td>\n",
       "      <td>4.6146</td>\n",
       "      <td>247600.0</td>\n",
       "    </tr>\n",
       "    <tr>\n",
       "      <th>860</th>\n",
       "      <td>37.58</td>\n",
       "      <td>-121.96</td>\n",
       "      <td>15.0</td>\n",
       "      <td>3575.0</td>\n",
       "      <td>597.0</td>\n",
       "      <td>1777.0</td>\n",
       "      <td>559.0</td>\n",
       "      <td>5.7192</td>\n",
       "      <td>283500.0</td>\n",
       "    </tr>\n",
       "    <tr>\n",
       "      <th>861</th>\n",
       "      <td>37.58</td>\n",
       "      <td>-121.98</td>\n",
       "      <td>20.0</td>\n",
       "      <td>4126.0</td>\n",
       "      <td>1031.0</td>\n",
       "      <td>2079.0</td>\n",
       "      <td>975.0</td>\n",
       "      <td>3.6832</td>\n",
       "      <td>216900.0</td>\n",
       "    </tr>\n",
       "    <tr>\n",
       "      <th>...</th>\n",
       "      <td>...</td>\n",
       "      <td>...</td>\n",
       "      <td>...</td>\n",
       "      <td>...</td>\n",
       "      <td>...</td>\n",
       "      <td>...</td>\n",
       "      <td>...</td>\n",
       "      <td>...</td>\n",
       "      <td>...</td>\n",
       "    </tr>\n",
       "    <tr>\n",
       "      <th>20635</th>\n",
       "      <td>39.48</td>\n",
       "      <td>-121.09</td>\n",
       "      <td>25.0</td>\n",
       "      <td>1665.0</td>\n",
       "      <td>374.0</td>\n",
       "      <td>845.0</td>\n",
       "      <td>330.0</td>\n",
       "      <td>1.5603</td>\n",
       "      <td>78100.0</td>\n",
       "    </tr>\n",
       "    <tr>\n",
       "      <th>20636</th>\n",
       "      <td>39.49</td>\n",
       "      <td>-121.21</td>\n",
       "      <td>18.0</td>\n",
       "      <td>697.0</td>\n",
       "      <td>150.0</td>\n",
       "      <td>356.0</td>\n",
       "      <td>114.0</td>\n",
       "      <td>2.5568</td>\n",
       "      <td>77100.0</td>\n",
       "    </tr>\n",
       "    <tr>\n",
       "      <th>20637</th>\n",
       "      <td>39.43</td>\n",
       "      <td>-121.22</td>\n",
       "      <td>17.0</td>\n",
       "      <td>2254.0</td>\n",
       "      <td>485.0</td>\n",
       "      <td>1007.0</td>\n",
       "      <td>433.0</td>\n",
       "      <td>1.7000</td>\n",
       "      <td>92300.0</td>\n",
       "    </tr>\n",
       "    <tr>\n",
       "      <th>20638</th>\n",
       "      <td>39.43</td>\n",
       "      <td>-121.32</td>\n",
       "      <td>18.0</td>\n",
       "      <td>1860.0</td>\n",
       "      <td>409.0</td>\n",
       "      <td>741.0</td>\n",
       "      <td>349.0</td>\n",
       "      <td>1.8672</td>\n",
       "      <td>84700.0</td>\n",
       "    </tr>\n",
       "    <tr>\n",
       "      <th>20639</th>\n",
       "      <td>39.37</td>\n",
       "      <td>-121.24</td>\n",
       "      <td>16.0</td>\n",
       "      <td>2785.0</td>\n",
       "      <td>616.0</td>\n",
       "      <td>1387.0</td>\n",
       "      <td>530.0</td>\n",
       "      <td>2.3886</td>\n",
       "      <td>89400.0</td>\n",
       "    </tr>\n",
       "  </tbody>\n",
       "</table>\n",
       "<p>15687 rows × 9 columns</p>\n",
       "</div>"
      ],
      "text/plain": [
       "       latitude  longitude  housing_median_age  total_rooms  total_bedrooms  \\\n",
       "701       37.64    -121.97                32.0       1283.0           194.0   \n",
       "830       37.61    -121.99                 9.0       3666.0           711.0   \n",
       "859       37.57    -121.97                21.0       4342.0           783.0   \n",
       "860       37.58    -121.96                15.0       3575.0           597.0   \n",
       "861       37.58    -121.98                20.0       4126.0          1031.0   \n",
       "...         ...        ...                 ...          ...             ...   \n",
       "20635     39.48    -121.09                25.0       1665.0           374.0   \n",
       "20636     39.49    -121.21                18.0        697.0           150.0   \n",
       "20637     39.43    -121.22                17.0       2254.0           485.0   \n",
       "20638     39.43    -121.32                18.0       1860.0           409.0   \n",
       "20639     39.37    -121.24                16.0       2785.0           616.0   \n",
       "\n",
       "       population  households  median_income  median_house_value  \n",
       "701         485.0       171.0         6.0574            431000.0  \n",
       "830        2341.0       703.0         4.6458            217000.0  \n",
       "859        2172.0       789.0         4.6146            247600.0  \n",
       "860        1777.0       559.0         5.7192            283500.0  \n",
       "861        2079.0       975.0         3.6832            216900.0  \n",
       "...           ...         ...            ...                 ...  \n",
       "20635       845.0       330.0         1.5603             78100.0  \n",
       "20636       356.0       114.0         2.5568             77100.0  \n",
       "20637      1007.0       433.0         1.7000             92300.0  \n",
       "20638       741.0       349.0         1.8672             84700.0  \n",
       "20639      1387.0       530.0         2.3886             89400.0  \n",
       "\n",
       "[15687 rows x 9 columns]"
      ]
     },
     "execution_count": 49,
     "metadata": {},
     "output_type": "execute_result"
    }
   ],
   "source": [
    "index= np.arange(len(f_data))\n",
    "np.random.seed(42)\n",
    "np.random.shuffle(index)\n",
    "f_data"
   ]
  },
  {
   "cell_type": "markdown",
   "id": "50cb0914-d285-4a53-a0ec-a0df9a77b7b2",
   "metadata": {},
   "source": [
    "## Split data in train/val/test sets, with 60%/20%/20% distribution."
   ]
  },
  {
   "cell_type": "code",
   "execution_count": 10,
   "id": "f1ebea7c-3870-4372-9ad2-f139f382dcb7",
   "metadata": {},
   "outputs": [],
   "source": [
    "all_data = len(f_data)\n",
    "val_size = int(all_data * 0.2)\n",
    "test_size = int(all_data * 0.2)\n",
    "train_size = all_data - val_size - test_size\n",
    "\n",
    "train_data = f_data.iloc[:train_size]\n",
    "val_data = f_data.iloc[train_size:(train_size + val_size)]\n",
    "test_data = f_data.iloc[(train_size + val_size):]"
   ]
  },
  {
   "cell_type": "code",
   "execution_count": 11,
   "id": "a06f1b50-2cdc-4b2c-8e5a-ea1cc243f5c1",
   "metadata": {},
   "outputs": [],
   "source": [
    "# Apply log transformation to 'median_house_value' using np.log1p()\n",
    "y_train = np.log1p(train_data.median_house_value.values) \n",
    "y_val = np.log1p(val_data.median_house_value.values)\n",
    "y_test = np.log1p(test_data.median_house_value.values)"
   ]
  },
  {
   "cell_type": "code",
   "execution_count": 12,
   "id": "207aa59d-b6c3-450c-8873-3bc34fa4e7f0",
   "metadata": {},
   "outputs": [],
   "source": [
    "del train_data['median_house_value']\n",
    "del val_data['median_house_value']\n",
    "del test_data['median_house_value']"
   ]
  },
  {
   "cell_type": "code",
   "execution_count": 13,
   "id": "8bb04a46-4b3c-4135-a180-7a84f8c89107",
   "metadata": {},
   "outputs": [
    {
     "data": {
      "text/plain": [
       "latitude               0\n",
       "longitude              0\n",
       "housing_median_age     0\n",
       "total_rooms            0\n",
       "total_bedrooms        33\n",
       "population             0\n",
       "households             0\n",
       "median_income          0\n",
       "dtype: int64"
      ]
     },
     "execution_count": 13,
     "metadata": {},
     "output_type": "execute_result"
    }
   ],
   "source": [
    "# Missing values \n",
    "test_data.isnull().sum()"
   ]
  },
  {
   "cell_type": "markdown",
   "id": "400fe5ec-0869-48fa-8f1a-9cee7e905e18",
   "metadata": {},
   "source": [
    "## Dealing with missing values for the column"
   ]
  },
  {
   "cell_type": "code",
   "execution_count": 14,
   "id": "65496902-3b37-43cb-8991-29085fb517e2",
   "metadata": {},
   "outputs": [],
   "source": [
    "# Option 1: Fill missing values with 0\n",
    "train_data_fill_zero = train_data.fillna(0)\n",
    "val_data_fill_zero = val_data.fillna(0)\n",
    "test_data_fill_zero = test_data.fillna(0)"
   ]
  },
  {
   "cell_type": "code",
   "execution_count": 15,
   "id": "b1cfb75b-575b-4654-ab61-02466304b81e",
   "metadata": {},
   "outputs": [],
   "source": [
    "# Calculate the mean from the training data\n",
    "mean_total_bedrooms = train_data['total_bedrooms'].mean()\n",
    "\n",
    "# Option 2: Fill missing values with the mean (training set only)\n",
    "train_data_fill_mean = train_data.fillna({'total_bedrooms': mean_total_bedrooms})\n",
    "val_data_fill_mean = val_data.fillna({'total_bedrooms': mean_total_bedrooms})\n",
    "test_data_fill_mean = test_data.fillna({'total_bedrooms': mean_total_bedrooms})"
   ]
  },
  {
   "cell_type": "markdown",
   "id": "d1936e0e-41bd-43bb-842c-96485ab34f2f",
   "metadata": {},
   "source": [
    "## Training a linear regression model"
   ]
  },
  {
   "cell_type": "code",
   "execution_count": 16,
   "id": "d63bfb52-50c5-44d1-86ea-f632ae09795b",
   "metadata": {},
   "outputs": [],
   "source": [
    "#  train a linear regression model without regularization\n",
    "def train_linear_regression(X, y):\n",
    "    # Add a column of ones (bias term) to the feature matrix X\n",
    "    ones = np.ones(X.shape[0])\n",
    "    X = np.column_stack([ones, X])\n",
    "\n",
    "    # Compute X^T * X (the dot product of the transpose of X and X)\n",
    "    XTX = X.T.dot(X)\n",
    "\n",
    "    # Compute the inverse of XTX\n",
    "    XTX_inv = np.linalg.inv(XTX)\n",
    "\n",
    "    # Compute the weight coefficients w\n",
    "    w = XTX_inv.dot(X.T).dot(y)\n",
    "\n",
    "    # Return the bias (intercept) w[0] and the remaining weights w[1:]\n",
    "    return w[0], w[1:]"
   ]
  },
  {
   "cell_type": "code",
   "execution_count": 17,
   "id": "df2a7b8a-56a6-44a1-b276-2c1f635f7ea8",
   "metadata": {
    "scrolled": true
   },
   "outputs": [
    {
     "name": "stdout",
     "output_type": "stream",
     "text": [
      "Bias (Intercept) for 0-filled scenario: -6.044513134855449\n",
      "Weights for 0-filled scenario: [-2.75843659e-01 -2.27363003e-01  1.83534913e-03 -2.55323154e-05\n",
      "  3.16788061e-04 -2.16429131e-04  5.26427661e-04  1.68083345e-01]\n",
      "\n",
      "\n",
      "Bias (Intercept) for Mean-filled scenario: -6.270379375382983\n",
      "Weights for Mean-filled scenario: [-2.78165300e-01 -2.29862004e-01  1.89128098e-03 -2.90833462e-05\n",
      "  5.06747168e-04 -2.12036116e-04  3.30647030e-04  1.69542094e-01]\n"
     ]
    }
   ],
   "source": [
    "# Training with 0-filled missing values\n",
    "bias_fill_zero, weights_fill_zero = train_linear_regression(train_data_fill_zero, y_train)\n",
    "print(\"Bias (Intercept) for 0-filled scenario:\", bias_fill_zero)\n",
    "print(\"Weights for 0-filled scenario:\", weights_fill_zero)\n",
    "\n",
    "print('\\n')\n",
    "\n",
    "# Training with mean-filled missing values (training set only)\n",
    "bias_fill_mean, weights_fill_mean = train_linear_regression(train_data_fill_mean, y_train)\n",
    "print(\"Bias (Intercept) for Mean-filled scenario:\", bias_fill_mean)\n",
    "print(\"Weights for Mean-filled scenario:\", weights_fill_mean)\n"
   ]
  },
  {
   "cell_type": "code",
   "execution_count": 18,
   "id": "c3bb1310-c1bc-4c7a-bf9c-9d145de36cc9",
   "metadata": {},
   "outputs": [
    {
     "data": {
      "text/plain": [
       "array([12.47168261, 12.32937584, 12.19237962, ..., 11.45142003,\n",
       "       11.56182744, 11.45988803])"
      ]
     },
     "execution_count": 18,
     "metadata": {},
     "output_type": "execute_result"
    }
   ],
   "source": [
    "# Make predictions for both scenarios on the validation data\n",
    "y_val_pred_fill_zero = bias_fill_zero + np.dot(val_data_fill_zero.values, weights_fill_zero)\n",
    "y_val_pred_fill_mean = bias_fill_mean + np.dot(val_data_fill_mean.values, weights_fill_mean)\n",
    "\n",
    "y_val_pred_fill_zero"
   ]
  },
  {
   "cell_type": "markdown",
   "id": "e1416500-6e80-483e-8c70-4cb1f8fe5400",
   "metadata": {},
   "source": [
    "## Histogram fro the train and our prediction value filled with 0"
   ]
  },
  {
   "cell_type": "code",
   "execution_count": 19,
   "id": "3582c4fa-f50a-4608-aff8-e5296f244f6d",
   "metadata": {
    "scrolled": true
   },
   "outputs": [
    {
     "data": {
      "text/plain": [
       "<AxesSubplot: ylabel='Count'>"
      ]
     },
     "execution_count": 19,
     "metadata": {},
     "output_type": "execute_result"
    },
    {
     "data": {
      "image/png": "[encoded data removed]",
      "text/plain": [
       "<Figure size 640x480 with 1 Axes>"
      ]
     },
     "metadata": {},
     "output_type": "display_data"
    }
   ],
   "source": [
    "sns.histplot(y_train, color='blue', alpha=0.5, bins=50)\n",
    "sns.histplot(y_val_pred_fill_zero, color='yellow', alpha=0.5, bins=50)"
   ]
  },
  {
   "cell_type": "markdown",
   "id": "8bc8a788-5b74-4549-a9e0-9156becf2b68",
   "metadata": {},
   "source": [
    "## Histogram fro the train and our prediction value filled with mean of the value"
   ]
  },
  {
   "cell_type": "code",
   "execution_count": 20,
   "id": "a6b6f7ea-7c49-474c-badf-9475d8efb101",
   "metadata": {},
   "outputs": [
    {
     "data": {
      "text/plain": [
       "<AxesSubplot: ylabel='Count'>"
      ]
     },
     "execution_count": 20,
     "metadata": {},
     "output_type": "execute_result"
    },
    {
     "data": {
      "image/png": "[encoded data removed]",
      "text/plain": [
       "<Figure size 640x480 with 1 Axes>"
      ]
     },
     "metadata": {},
     "output_type": "display_data"
    }
   ],
   "source": [
    "sns.histplot(y_train, color='blue', alpha=0.5, bins=50)\n",
    "sns.histplot(y_val_pred_fill_mean, color='yellow', alpha=0.5, bins=50)"
   ]
  },
  {
   "cell_type": "code",
   "execution_count": 21,
   "id": "1816bd57-dc5c-4d93-a06f-a2fa98948dde",
   "metadata": {},
   "outputs": [],
   "source": [
    "# custom RMSE function \n",
    "def rmse(y, y_pred):\n",
    "    error = y - y_pred\n",
    "    se = error ** 2\n",
    "    mse = se.mean()\n",
    "    return np.sqrt(mse)"
   ]
  },
  {
   "cell_type": "code",
   "execution_count": 22,
   "id": "89670f9e-6ead-4a2c-ad77-da30bee550be",
   "metadata": {},
   "outputs": [
    {
     "name": "stdout",
     "output_type": "stream",
     "text": [
      "rmse_fill_zero_custom = 0.35415219292357436\n",
      "rmse_fill_mean_custom = 0.35716002290015847\n"
     ]
    }
   ],
   "source": [
    "# Using the validation dataset to evaluate the models\n",
    "rmse_fill_zero_custom = rmse(y_val, y_val_pred_fill_zero)\n",
    "rmse_fill_mean_custom = rmse(y_val, y_val_pred_fill_mean)\n",
    "print(\"rmse_fill_zero_custom = {}\".format(rmse_fill_zero_custom))\n",
    "print(\"rmse_fill_mean_custom = {}\".format(rmse_fill_mean_custom))"
   ]
  },
  {
   "cell_type": "code",
   "execution_count": 23,
   "id": "cf3dc614-ce41-4c0b-8839-cf1362761f7a",
   "metadata": {},
   "outputs": [],
   "source": [
    "# Round the RMSE scores to 2 decimal digits \n",
    "rmse_fill_zero_rounded = round(rmse_fill_zero_custom, 2)\n",
    "rmse_fill_mean_rounded = round(rmse_fill_mean_custom, 2)"
   ]
  },
  {
   "cell_type": "code",
   "execution_count": 24,
   "id": "e687ca65-70f9-43e1-ad17-6b0d13ad81b0",
   "metadata": {},
   "outputs": [
    {
     "name": "stdout",
     "output_type": "stream",
     "text": [
      "rmse_fill_zero_rounded = 0.35\n",
      "rmse_fill_mean_rounded = 0.36\n"
     ]
    }
   ],
   "source": [
    "print(\"rmse_fill_zero_rounded = {}\".format(rmse_fill_zero_rounded))\n",
    "print(\"rmse_fill_mean_rounded = {}\".format(rmse_fill_mean_rounded))"
   ]
  },
  {
   "cell_type": "code",
   "execution_count": 69,
   "id": "6e0c02b8-b650-4b01-b2db-e0a649b33fe6",
   "metadata": {},
   "outputs": [
    {
     "name": "stdout",
     "output_type": "stream",
     "text": [
      "RMSE for 0-filled scenario is better: 0.35\n"
     ]
    }
   ],
   "source": [
    "# Compare the RMSE scores and determine which option is better\n",
    "if rmse_fill_zero_rounded < rmse_fill_mean_rounded:\n",
    "    print(\"RMSE for 0-filled scenario is better:\", rmse_fill_zero_rounded)\n",
    "else:\n",
    "   print(\"RMSE for Mean-filled scenario is better:\", rmse_fill_mean_rounded)"
   ]
  },
  {
   "cell_type": "code",
   "execution_count": 142,
   "id": "cd2ec710-d9ac-41fa-aba9-29c3443a3164",
   "metadata": {},
   "outputs": [],
   "source": [
    "## Regularized linear regression.\n",
    "##  the model is performing similarly to the unregularized case"
   ]
  },
  {
   "cell_type": "code",
   "execution_count": 66,
   "id": "c93ac15e-eb47-4e83-8b43-85539cbe2cab",
   "metadata": {},
   "outputs": [
    {
     "name": "stdout",
     "output_type": "stream",
     "text": [
      "RMSE for r=0: 0.34\n",
      "RMSE for r=1e-06: 0.34\n",
      "RMSE for r=0.0001: 0.34\n",
      "RMSE for r=0.001: 0.34\n",
      "RMSE for r=0.01: 0.34\n",
      "RMSE for r=0.1: 0.34\n",
      "RMSE for r=1: 0.34\n",
      "RMSE for r=5: 0.34\n",
      "RMSE for r=10: 0.34\n",
      "Best r value: 0\n",
      "Best RMSE: 0.34\n"
     ]
    }
   ],
   "source": [
    "# list of different values of r\n",
    "reg_values=[0, 0.000001, 0.0001, 0.001, 0.01, 0.1, 1, 5, 10]\n",
    "\n",
    "best_rmse = float('inf')\n",
    "best_r = None\n",
    "\n",
    "# Dictionary to store RMSE values for each r\n",
    "rmse_values = {}\n",
    "\n",
    "# Define a simple linear regression function with L2 regularization\n",
    "def simple_linear_regression(X, y, r):\n",
    "    XTX = X.T.dot(X)\n",
    "    XTX_reg = XTX + r * np.eye(XTX.shape[0])  # Add regularization term to the diagonal\n",
    "    XTX_inv = np.linalg.inv(XTX_reg)\n",
    "    w = XTX_inv.dot(X.T).dot(y)\n",
    "    return w\n",
    "\n",
    "# Iterate through different values of r\n",
    "for r in reg_values:\n",
    "    # Train a simple linear regression model with L2 regularization\n",
    "    w = simple_linear_regression(train_data_fill_zero, y_train, r)\n",
    "    \n",
    "    # Make predictions on the validation dataset\n",
    "    y_val_pred = val_data_fill_zero.dot(w)\n",
    "    \n",
    "    # Calculate RMSE for the current r value\n",
    "    rmse_value = np.sqrt(((y_val - y_val_pred) ** 2).mean())\n",
    "    \n",
    "    # Round RMSE to 2 decimal digits\n",
    "    rmse_rounded = round(rmse, 2)\n",
    "\n",
    "    # Store the RMSE value \n",
    "    rmse_values[r] = rmse_rounded\n",
    "    \n",
    "    # Check if this r value results in a lower RMSE\n",
    "    if rmse_rounded < best_rmse:\n",
    "        best_rmse = rmse_rounded\n",
    "        best_r = r\n",
    "\n",
    "# Print the RMSE values for each r\n",
    "for r, rmse in rmse_values.items():\n",
    "    print(f\"RMSE for r={r}: {rmse}\")\n",
    "\n",
    "# Print the best r value and corresponding RMSE\n",
    "print(\"Best r value:\", best_r)\n",
    "print(\"Best RMSE:\", best_rmse)\n",
    "    "
   ]
  },
  {
   "cell_type": "code",
   "execution_count": 67,
   "id": "b184c7ee-e905-4d66-82da-79435659d3d6",
   "metadata": {},
   "outputs": [],
   "source": [
    "# custom RMSE function \n",
    "def rmse(y, y_pred):\n",
    "    error = y - y_pred\n",
    "    se = error ** 2\n",
    "    mse = se.mean()\n",
    "    return np.sqrt(mse)"
   ]
  },
  {
   "cell_type": "code",
   "execution_count": 71,
   "id": "7713e64e-d739-4c3f-ac49-eff971f8929b",
   "metadata": {},
   "outputs": [
    {
     "name": "stdout",
     "output_type": "stream",
     "text": [
      "Standard Deviation of RMSE Scores: 0.005\n"
     ]
    }
   ],
   "source": [
    "# Define the seed values to try\n",
    "seed_values = [0, 1, 2, 3, 4, 5, 6, 7, 8, 9]\n",
    "rmse_scores = []  # To store RMSE scores for each seed\n",
    "\n",
    "# Loop through each seed\n",
    "for seed in seed_values:\n",
    "    # Set the random seed for reproducibility\n",
    "    np.random.seed(seed)\n",
    "    \n",
    "    # Shuffle the data\n",
    "    idx = np.arange(len(f_data))\n",
    "    np.random.shuffle(idx)\n",
    "    shuffled_data = f_data.iloc[idx]\n",
    "    \n",
    "    # Split the data into train, validation, and test sets (60%/20%/20%)\n",
    "    all_data = len(shuffled_data)\n",
    "    val_size = int(all_data * 0.2)\n",
    "    test_size = int(all_data * 0.2)\n",
    "    train_size = all_data - val_size - test_size\n",
    "    \n",
    "    train_data = shuffled_data.iloc[:train_size]\n",
    "    val_data = shuffled_data.iloc[train_size:(train_size + val_size)]\n",
    "# Fill missing values with 0\n",
    "    train_data_fill_zero = train_data.fillna(0)\n",
    "    val_data_fill_zero = val_data.fillna(0)\n",
    "\n",
    "    X_train_fill_zero = train_data_fill_zero.drop('median_house_value', axis=1)\n",
    "    y_train_fill_zero = np.log1p(train_data_fill_zero['median_house_value'])\n",
    "    X_val_fill_zero = val_data_fill_zero.drop('median_house_value', axis=1)\n",
    "    y_val_fill_zero = np.log1p(val_data_fill_zero['median_house_value'])\n",
    "\n",
    "    bias_fill_zero, weights_fill_zero = train_linear_regression(X_train_fill_zero, y_train_fill_zero)\n",
    "    # Predict on validation data\n",
    "    y_val_pred_fill_zero = bias_fill_zero + np.dot(X_val_fill_zero.values, weights_fill_zero)\n",
    "    # Calculate RMSE for this seed and store it\n",
    "    rmse_score = rmse(y_val_fill_zero, y_val_pred_fill_zero)\n",
    "    rmse_scores.append(rmse_score)\n",
    "\n",
    "# Calculate the standard deviation of RMSE scores\n",
    "std_deviation = np.std(rmse_scores)\n",
    "\n",
    "# Round the result to 3 decimal digits\n",
    "std_deviation_rounded = round(std_deviation, 3)\n",
    "\n",
    "# Print the standard deviation\n",
    "print(\"Standard Deviation of RMSE Scores:\", std_deviation_rounded)"
   ]
  },
  {
   "cell_type": "markdown",
   "id": "cfa9f5a3-a94c-4ca3-a0c8-4257cb8a9f59",
   "metadata": {},
   "source": [
    "## using int '9' as seed"
   ]
  },
  {
   "cell_type": "code",
   "execution_count": 89,
   "id": "cf20ac27-0630-48fd-b98d-9488d1e0fe28",
   "metadata": {},
   "outputs": [
    {
     "name": "stdout",
     "output_type": "stream",
     "text": [
      "RMSE with regularization (r=0.001) on the test data: 0.33042392020916683\n"
     ]
    }
   ],
   "source": [
    "# Set the random seed for reproducibility\n",
    "np.random.seed(9)\n",
    "\n",
    "# Shuffle the initial dataset with seed 9\n",
    "idx = np.arange(len(f_data))\n",
    "np.random.shuffle(idx)\n",
    "\n",
    "# Split the data into train, validation, and test sets (60%/20%/20%)\n",
    "all_data = len(f_data)\n",
    "val_size = int(all_data * 0.2)\n",
    "test_size = int(all_data * 0.2)\n",
    "train_size = all_data - val_size - test_size\n",
    "\n",
    "train_data = f_data.iloc[:train_size]\n",
    "val_data = f_data.iloc[train_size:(train_size + val_size)]\n",
    "test_data = f_data.iloc[(train_size + val_size):]\n",
    "\n",
    "# Combine train and validation datasets\n",
    "train_val_data = pd.concat([train_data, val_data])\n",
    "\n",
    "# Fill missing values with 0\n",
    "train_val_data_fill_zero = train_val_data.fillna(0)\n",
    "test_data_fill_zero = test_data.fillna(0)\n",
    "\n",
    "# Extract features and target variables for train_val_data and test_data\n",
    "X_train_val_fill_zero = train_val_data_fill_zero.drop('median_house_value', axis=1)\n",
    "y_train_val_fill_zero = np.log1p(train_val_data_fill_zero['median_house_value'])\n",
    "X_test_fill_zero = test_data_fill_zero.drop('median_house_value', axis=1)\n",
    "y_test_fill_zero = np.log1p(test_data_fill_zero['median_house_value'])\n",
    "\n",
    "# Train a linear regression model with regularization (r=0.001) on the combined dataset\n",
    "r_value = 0.001\n",
    "weights_reg = simple_linear_regression(X_train_val_fill_zero, y_train_val_fill_zero, r_value)\n",
    "\n",
    "# Predict on test data\n",
    "y_test_pred_reg = X_test_fill_zero.dot(weights_reg)\n",
    "\n",
    "# Calculate RMSE for the model with regularization (r=0.001) on the test data\n",
    "rmse_reg = rmse(y_test_fill_zero, y_test_pred_reg)\n",
    "\n",
    "# Print the RMSE\n",
    "print(\"RMSE with regularization (r=0.001) on the test data:\", rmse_reg)\n"
   ]
  },
  {
   "cell_type": "code",
   "execution_count": null,
   "id": "2de7f216-2979-4535-8a1d-51209428ad05",
   "metadata": {},
   "outputs": [],
   "source": []
  }
 ],
 "metadata": {
  "kernelspec": {
   "display_name": "Python 3 (ipykernel)",
   "language": "python",
   "name": "python3"
  },
  "language_info": {
   "codemirror_mode": {
    "name": "ipython",
    "version": 3
   },
   "file_extension": ".py",
   "mimetype": "text/x-python",
   "name": "python",
   "nbconvert_exporter": "python",
   "pygments_lexer": "ipython3",
   "version": "3.11.4"
  }
 },
 "nbformat": 4,
 "nbformat_minor": 5
}
