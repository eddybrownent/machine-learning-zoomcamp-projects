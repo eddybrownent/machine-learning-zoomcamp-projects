{
 "cells": [
  {
   "cell_type": "markdown",
   "id": "4ff7aaff-25cb-4530-8c14-63c5814528d1",
   "metadata": {},
   "source": [
    "# ML Zoomcamp 2023 - Homework #5"
   ]
  },
  {
   "cell_type": "markdown",
   "id": "063360a8-47f2-4bc9-82e6-5adda1d6e3a4",
   "metadata": {},
   "source": [
    "In this homework, we will use Bank credit scoring dataset from\n",
    "Question 1\n",
    "\n",
    "    Install Pipenv\n",
    "    What's the version of pipenv you installed?\n",
    "    Use --version to find out"
   ]
  },
  {
   "cell_type": "code",
   "execution_count": 2,
   "id": "00543331-d31b-4523-a767-30a9179f4d7a",
   "metadata": {},
   "outputs": [
    {
     "name": "stdout",
     "output_type": "stream",
     "text": [
      "\u001b[1mpipenv\u001b[0m, version 2023.10.3\n"
     ]
    }
   ],
   "source": [
    "!pipenv --version"
   ]
  },
  {
   "cell_type": "markdown",
   "id": "38ac06d5-7cdd-4383-b3f2-f3a926a061a9",
   "metadata": {},
   "source": [
    "Question 2\n",
    "\n",
    "    Use Pipenv to install Scikit-Learn version 1.3.1\n",
    "    What's the first hash for scikit-learn you get in Pipfile.lock?\n",
    "\n",
    "\"sha256:0c275a06c5190c5ce00af0acbb61c06374087949f643ef32d355ece12c4db043\""
   ]
  },
  {
   "cell_type": "markdown",
   "id": "bb9d3752-06d4-48e9-85f3-6ae4f6ee314f",
   "metadata": {},
   "source": [
    "Models\n",
    "\n",
    "We've prepared a dictionary vectorizer and a model.\n",
    "\n",
    "They were trained (roughly) using this code:\n",
    "\n",
    "features = ['job','duration', 'poutcome']\n",
    "dicts = df[features].to_dict(orient='records')\n",
    "\n",
    "dv = DictVectorizer(sparse=False)\n",
    "X = dv.fit_transform(dicts)\n",
    "\n",
    "model = LogisticRegression().fit(X, y)\n",
    "\n",
    "And then saved with Pickle. Download them:\n",
    "\n",
    "    DictVectorizer\n",
    "    LogisticRegression\n",
    "\n",
    "With wget:\n",
    "\n",
    "PREFIX=https://raw.githubusercontent.com/DataTalksClub/machine-learning-zoomcamp/master/cohorts/2023/05-deployment/homework\n",
    "wget $PREFIX/model1.bin\n",
    "wget $PREFIX/dv.bin"
   ]
  },
  {
   "cell_type": "code",
   "execution_count": 3,
   "id": "0723bb95-ac2b-40e8-a730-82ff37e9c348",
   "metadata": {},
   "outputs": [
    {
     "name": "stdout",
     "output_type": "stream",
     "text": [
      "--2023-10-14 12:11:06--  https://raw.githubusercontent.com/DataTalksClub/machine-learning-zoomcamp/master/cohorts/2023/05-deployment/homework/model1.bin\n",
      "Resolving raw.githubusercontent.com (raw.githubusercontent.com)... 185.199.111.133, 185.199.110.133, 185.199.109.133, ...\n",
      "Connecting to raw.githubusercontent.com (raw.githubusercontent.com)|185.199.111.133|:443... connected.\n",
      "HTTP request sent, awaiting response... Read error (Decryption has failed.) in headers.\n",
      "Retrying.\n",
      "\n",
      "--2023-10-14 12:11:07--  (try: 2)  https://raw.githubusercontent.com/DataTalksClub/machine-learning-zoomcamp/master/cohorts/2023/05-deployment/homework/model1.bin\n",
      "Connecting to raw.githubusercontent.com (raw.githubusercontent.com)|185.199.111.133|:443... connected.\n",
      "HTTP request sent, awaiting response... 200 OK\n",
      "Length: 842 [application/octet-stream]\n",
      "Saving to: ‘model1.bin’\n",
      "\n",
      "model1.bin          100%[===================>]     842  --.-KB/s    in 0s      \n",
      "\n",
      "2023-10-14 12:11:08 (37.9 MB/s) - ‘model1.bin’ saved [842/842]\n",
      "\n",
      "--2023-10-14 12:11:08--  https://raw.githubusercontent.com/DataTalksClub/machine-learning-zoomcamp/master/cohorts/2023/05-deployment/homework/dv.bin\n",
      "Resolving raw.githubusercontent.com (raw.githubusercontent.com)... 185.199.108.133, 185.199.109.133, 185.199.110.133, ...\n",
      "Connecting to raw.githubusercontent.com (raw.githubusercontent.com)|185.199.108.133|:443... connected.\n",
      "HTTP request sent, awaiting response... 200 OK\n",
      "Length: 560 [application/octet-stream]\n",
      "Saving to: ‘dv.bin’\n",
      "\n",
      "dv.bin              100%[===================>]     560  --.-KB/s    in 0s      \n",
      "\n",
      "2023-10-14 12:11:10 (27.4 MB/s) - ‘dv.bin’ saved [560/560]\n",
      "\n"
     ]
    }
   ],
   "source": [
    "PREFIX=\"https://raw.githubusercontent.com/DataTalksClub/machine-learning-zoomcamp/master/cohorts/2023/05-deployment/homework\"\n",
    "!wget \"$PREFIX/model1.bin\"\n",
    "!wget \"$PREFIX/dv.bin\"\n"
   ]
  },
  {
   "cell_type": "code",
   "execution_count": 4,
   "id": "e94888a4-fe1b-4fe6-8166-70641647bea6",
   "metadata": {},
   "outputs": [
    {
     "name": "stdout",
     "output_type": "stream",
     "text": [
      " dv.bin  'HW5_Solution(1).ipynb'   model1.bin   Untitled.ipynb\n"
     ]
    }
   ],
   "source": [
    "!ls"
   ]
  },
  {
   "cell_type": "markdown",
   "id": "5aaafba2-3873-4914-963c-5150c5e6b6a3",
   "metadata": {},
   "source": [
    "Question 3\n",
    "\n",
    "Let's use these models!\n",
    "\n",
    "    Write a script for loading these models with pickle\n",
    "    Score this client:\n",
    "\n",
    "{\"job\": \"retired\", \"duration\": 445, \"poutcome\": \"success\"}\n",
    "\n",
    "What's the probability that this client will get a credit?\n",
    "\n",
    "    0.162\n",
    "    0.392\n",
    "    0.652\n",
    "    0.902"
   ]
  },
  {
   "cell_type": "code",
   "execution_count": 5,
   "id": "3be6a764-8beb-4e31-a84d-8104685d7754",
   "metadata": {},
   "outputs": [],
   "source": [
    "import pickle\n",
    "\n",
    "from flask import Flask\n",
    "from flask import request\n",
    "from flask import jsonify\n",
    "\n",
    "import requests"
   ]
  },
  {
   "cell_type": "markdown",
   "id": "978ed023-e09c-4bb5-b93c-9fc9d822aebb",
   "metadata": {},
   "source": [
    "If you're getting errors when unpickling the files, check their checksum:"
   ]
  },
  {
   "cell_type": "code",
   "execution_count": 6,
   "id": "9b64c2ea-ed62-496e-aec0-926f8dbbd09c",
   "metadata": {},
   "outputs": [
    {
     "name": "stdout",
     "output_type": "stream",
     "text": [
      "8ebfdf20010cfc7f545c43e3b52fc8a1  model1.bin\n",
      "924b496a89148b422c74a62dbc92a4fb  dv.bin\n"
     ]
    }
   ],
   "source": [
    "!md5sum model1.bin dv.bin"
   ]
  },
  {
   "cell_type": "code",
   "execution_count": 11,
   "id": "784cd955-d596-4051-94ad-2b1f9e1e08d1",
   "metadata": {},
   "outputs": [
    {
     "name": "stdout",
     "output_type": "stream",
     "text": [
      "the probability that this client will get a credit 0.9019309332297606\n"
     ]
    }
   ],
   "source": [
    "import warnings\n",
    "warnings.filterwarnings(\"ignore\", category=UserWarning, module=\"sklearn\")\n",
    "\n",
    "model_file = 'model1.bin'\n",
    "dv_file = 'dv.bin'\n",
    "\n",
    "with open(model_file, 'rb') as f_in:\n",
    "    model1 = pickle.load(f_in)\n",
    "    f_in.close()\n",
    "    \n",
    "with open(dv_file, 'rb') as f_in:\n",
    "    dv1 = pickle.load(f_in)\n",
    "    f_in.close()\n",
    "\n",
    "\n",
    "client = {\"job\": \"retired\", \"duration\": 445, \"poutcome\": \"success\"}\n",
    "\n",
    "X = dv1.transform([client])\n",
    "y_pred = model1.predict_proba(X)[0, 1]\n",
    "print('the probability that this client will get a credit {}'.format(y_pred))"
   ]
  },
  {
   "cell_type": "markdown",
   "id": "12ae5c71-20dc-4818-8cf7-6748367b1ef8",
   "metadata": {},
   "source": [
    "Question 4\n",
    "\n",
    "Now let's serve this model as a web service\n",
    "\n",
    "    Install Flask and gunicorn (or waitress, if you're on Windows)\n",
    "    Write Flask code for serving the model\n",
    "    Now score this client using requests:"
   ]
  },
  {
   "cell_type": "markdown",
   "id": "89cd7740-3135-455e-8a41-07aa467babf2",
   "metadata": {},
   "source": [
    "import pickle\n",
    "\n",
    "from flask import Flask\n",
    "from flask import request\n",
    "from flask import jsonify\n",
    "\n",
    "def load(filename):\n",
    "    with open(filename, 'rb') as file_in:\n",
    "        return pickle.load(file_in)\n",
    "\n",
    "dv = load('dv.bin')\n",
    "model = load('model1.bin')\n",
    "\n",
    "app = Flask('credit')\n",
    "\n",
    "@app.route('/predict', methods=['POST'])\n",
    "def predict():\n",
    "    client = request.get_json()\n",
    "\n",
    "    X = dv.transform(client)\n",
    "    y_pred = model.predict_proba(X)[0, 1]\n",
    "    get_credit = y_pred >= 0.5\n",
    "\n",
    "    result = {\n",
    "        'get_credit_prob': float(y_pred),\n",
    "        'get_credit': bool(get_credit),\n",
    "\n",
    "        }\n",
    "\n",
    "    return jsonify(result)\n",
    "\n",
    "if __name__ == \"__main__\":\n",
    "    app.run(debug=True, host='0.0.0.0', port=9696)"
   ]
  },
  {
   "cell_type": "code",
   "execution_count": 6,
   "id": "0e21d664-1bb3-49be-ace1-58730f963033",
   "metadata": {},
   "outputs": [
    {
     "name": "stdout",
     "output_type": "stream",
     "text": [
      "The probability that this client will get a credit? 0.13968947052356817\n"
     ]
    }
   ],
   "source": [
    "import requests\n",
    "\n",
    "# Define the URL where your Flask service is running\n",
    "url = \"http://localhost:9696/predict\"  # Adjust the URL as needed\n",
    "\n",
    "# Define the client data as a dictionary\n",
    "client = {\n",
    "    \"job\": \"unknown\",\n",
    "    \"duration\": 270,\n",
    "    \"poutcome\": \"failure\"\n",
    "}\n",
    "result = requests.post(url, json=client).json()\n",
    "\n",
    "print(\"The probability that this client will get a credit? {}\".format(result['get_credit_prob']))"
   ]
  },
  {
   "cell_type": "markdown",
   "id": "5bf320ea-e987-4f48-a83a-cae4283d2e18",
   "metadata": {},
   "source": [
    "Docker\n",
    "Install Docker. We will use it for the next two questions.\n",
    "\n",
    "For these questions, we prepared a base image: svizor/zoomcamp-model:3.10.12-slim. You'll need to use it (see Question 5 for an example).\n",
    "\n",
    "This image is based on python:3.10.12-slim and has a logistic regression model (a different one) as well a dictionary vectorizer inside.\n",
    "\n",
    "This is how the Dockerfile for this image looks like:\n",
    "\n",
    "FROM python:3.10.12-slim\n",
    "WORKDIR /app\n",
    "COPY [\"model2.bin\", \"dv.bin\", \"./\"]\n",
    "\n",
    "We already built it and then pushed it to svizor/zoomcamp-model:3.10.12-slim."
   ]
  },
  {
   "cell_type": "markdown",
   "id": "1102bc53-82ba-4bec-8fda-aefe83cf02c4",
   "metadata": {},
   "source": [
    "# pulling the image \n",
    "┌──[~/machine-learning-zoomcamp-projects]\n",
    "└─$ sudo docker pull svizor/zoomcamp-model:3.10.12-slim\n",
    "[sudo] password for edwin: \n",
    "3.10.12-slim: Pulling from svizor/zoomcamp-model\n",
    "52d2b7f179e3: Pull complete \n",
    "2b8a9a2240c1: Pull complete \n",
    "618a49bbc6c6: Pull complete \n",
    "708d13076071: Pull complete \n",
    "90b76fc2ebde: Pull complete \n",
    "a7c599e7b037: Pull complete \n",
    "faa7e3220190: Pull complete \n",
    "Digest: sha256:e8441100b9d8da56344f50c673eb2daded3c61ce9565e45c3592c02f34fb3149\n",
    "Status: Downloaded newer image for svizor/zoomcamp-model:3.10.12-slim\n",
    "docker.io/svizor/zoomcamp-model:3.10.12-slim"
   ]
  },
  {
   "cell_type": "markdown",
   "id": "12260e18-c030-475e-87ab-87c89a42e0e7",
   "metadata": {},
   "source": [
    "Question 5\n",
    "\n",
    "Download the base image svizor/zoomcamp-model:3.10.12-slim. You can easily make it by using docker pull command.\n",
    "\n",
    "So what's the size of this base image?\n",
    "\n",
    "    47 MB\n",
    "    147 MB\n",
    "    374 MB\n",
    "    574 MB"
   ]
  },
  {
   "cell_type": "raw",
   "id": "daf57da3-a7b7-4d8c-a0b9-76c18ed96c83",
   "metadata": {},
   "source": [
    "┌──[~/machine-learning-zoomcamp-projects]\n",
    "└─$ sudo docker images\n",
    "REPOSITORY              TAG            IMAGE ID       CREATED         SIZE\n",
    "zoomcap-test            latest         90251f749b77   2 hours ago     468MB\n",
    "<none>                  <none>         586323db65e0   2 hours ago     314MB\n",
    "<none>                  <none>         fbf6d7db63e1   2 hours ago     228MB\n",
    "<none>                  <none>         f5dfde6ea768   2 hours ago     223MB\n",
    "svizor/zoomcamp-model   3.10.12-slim   08266c8f0c4b   4 days ago      147MB\n",
    "ubuntu                  20.04          14be0685b768   3 months ago    72.8MB\n",
    "python                  3.8.12-slim    513da2530098   19 months ago   122MB\n",
    "holbertonschool/265-0   latest         46f1c60ceb60   6 years ago     225MB\n",
    "sylvainkalache/264-1    latest         c720daa925df   6 years ago     253MB"
   ]
  },
  {
   "cell_type": "raw",
   "id": "8bff380e-0eaf-4db1-b543-e0e76d57286b",
   "metadata": {},
   "source": [
    "Now create your own Dockerfile based on the image we prepared.\n",
    "\n",
    "It should start like that:\n",
    "\n",
    "FROM svizor/zoomcamp-model:3.10.12-slim\n",
    "# add your stuff here\n",
    "\n",
    "Now complete it:\n",
    "\n",
    "    Install all the dependencies form the Pipenv file\n",
    "    Copy your Flask script\n",
    "    Run it with Gunicorn\n",
    "\n",
    "After that, you can build your docker image."
   ]
  },
  {
   "cell_type": "markdown",
   "id": "40c52fc7-1153-4234-a2da-35d68118fcd4",
   "metadata": {},
   "source": [
    "# Building the image \n",
    "┌──-[~/machine-learning-zoomcamp-projects/homework_5]\n",
    "└─$ sudo docker build -t credit_score .                                             \n",
    "Sending build context to Docker daemon    151kB\n",
    "Step 1/10 : FROM svizor/zoomcamp-model:3.10.12-slim\n",
    " ---> 08266c8f0c4b\n",
    "Step 2/10 : RUN pip install pipenv\n",
    " ---> Using cache\n",
    " ---> 133f868cdf67\n",
    "Step 3/10 : RUN pip install Flask\n",
    " ---> Using cache\n",
    " ---> 8cd33f81def7\n",
    "Step 4/10 : COPY [\"Pipfile\", \"Pipfile.lock\", \"./\"]\n",
    " ---> Using cache\n",
    " ---> 7aa4d0e58de8\n",
    "Step 5/10 : RUN pipenv install --system --deploy\n",
    " ---> Using cache\n",
    " ---> 97082b822f96\n",
    "Step 6/10 : COPY [\"dv.bin\", \"/\"]\n",
    " ---> Using cache\n",
    " ---> c16d8833c1e5\n",
    "Step 7/10 : COPY [\"model1.bin\", \"/model1.bin\"]\n",
    " ---> Using cache\n",
    " ---> 6be1591e425a\n",
    "Step 8/10 : COPY [\"quiz_6.py\", \"./\"]\n",
    " ---> 66498d74a2d9\n",
    "Step 9/10 : EXPOSE 9616\n",
    " ---> Running in 34adf9af9ccf\n",
    "Removing intermediate container 34adf9af9ccf\n",
    " ---> 0bb174865510\n",
    "Step 10/10 : ENTRYPOINT [\"gunicorn\", \"--bind=0.0.0.0:9616\", \"quiz_6:app\"]\n",
    " ---> Running in e439a956f7bc\n",
    "Removing intermediate container e439a956f7bc\n",
    " ---> 062a8e29d18f\n",
    "Successfully built 062a8e29d18f\n",
    "Successfully tagged credit_score:latest\n",
    "                                                                                              \n",
    "└─$ sudo docker run -it --rm -p 1616:1616 --name credit_score_container credit_score"
   ]
  },
  {
   "cell_type": "raw",
   "id": "3e0ed6ac-4195-4210-bfaa-90f1a2f96be5",
   "metadata": {},
   "source": [
    "Question 6\n",
    "\n",
    "Let's run your docker container!\n",
    "\n",
    "After running it, score this client once again:\n",
    "\n",
    "url = \"YOUR_URL\"\n",
    "client = {\"job\": \"retired\", \"duration\": 445, \"poutcome\": \"success\"}\n",
    "requests.post(url, json=client).json()\n",
    "\n",
    "What's the probability that this client will get a credit now?\n",
    "\n",
    "    0.168\n",
    "    0.530\n",
    "    0.730\n",
    "    0.968"
   ]
  },
  {
   "cell_type": "code",
   "execution_count": 10,
   "id": "8aebc545-6dce-4e26-9f26-07d5246efce9",
   "metadata": {},
   "outputs": [
    {
     "name": "stdout",
     "output_type": "stream",
     "text": [
      "{'get_credit': True, 'get_credit_prob': 0.9019309332297606}\n"
     ]
    }
   ],
   "source": [
    "import requests\n",
    "\n",
    "url = 'http://localhost:9616/predict'\n",
    "\n",
    "client = {\"job\": \"retired\", \"duration\": 445, \"poutcome\": \"success\"}\n",
    "\n",
    "result = requests.post(url, json=client).json()\n",
    "\n",
    "print(result)"
   ]
  },
  {
   "cell_type": "code",
   "execution_count": null,
   "id": "ac09b0b7-ec64-4727-831b-ffdd54816b53",
   "metadata": {},
   "outputs": [],
   "source": []
  },
  {
   "cell_type": "code",
   "execution_count": null,
   "id": "af9975ca-97ec-4582-9f62-0e08d70fca41",
   "metadata": {},
   "outputs": [],
   "source": []
  }
 ],
 "metadata": {
  "kernelspec": {
   "display_name": "Python 3 (ipykernel)",
   "language": "python",
   "name": "python3"
  },
  "language_info": {
   "codemirror_mode": {
    "name": "ipython",
    "version": 3
   },
   "file_extension": ".py",
   "mimetype": "text/x-python",
   "name": "python",
   "nbconvert_exporter": "python",
   "pygments_lexer": "ipython3",
   "version": "3.11.4"
  }
 },
 "nbformat": 4,
 "nbformat_minor": 5
}
